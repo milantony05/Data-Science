{
    "cells": [
        {
            "cell_type": "markdown",
            "metadata": {
                "collapsed": true,
                "id": "39e9748e-5808-427f-9209-9b8a00d2adb2",
                "jupyter": {
                    "outputs_hidden": true
                }
            },
            "source": "# My Jupyter Notebook on IBM watsonx.ai"
        },
        {
            "cell_type": "markdown",
            "metadata": {
                "id": "ca8564c1-7fd4-4e57-a14b-15a224e169f6"
            },
            "source": "**Milan Tony**\\\nStudent, aspiring Data Scientist"
        },
        {
            "cell_type": "markdown",
            "metadata": {
                "id": "9f6d6711-08f2-4d18-908e-183f0f886809"
            },
            "source": "*I am interested in data science because it allows me to merge the power of AI and machine learning with business objectives\u2014crafting impactful solutions, uncovering critical insights, and identifying hidden patterns that drive innovation and strategic decision-making.*"
        },
        {
            "cell_type": "markdown",
            "metadata": {
                "id": "c6ef4097-3c35-464d-8400-de6d959cef2b"
            },
            "source": "### This program prints Hello, World!"
        },
        {
            "cell_type": "code",
            "execution_count": 1,
            "metadata": {
                "id": "32956283-b767-4784-a741-fd0a3e8f9152"
            },
            "outputs": [
                {
                    "name": "stdout",
                    "output_type": "stream",
                    "text": "Hello, World!\n"
                }
            ],
            "source": "print('Hello, World!')"
        },
        {
            "cell_type": "markdown",
            "metadata": {
                "id": "c8557726-a849-4ff6-9374-5c990ae05a9f"
            },
            "source": "Interested technologies:\n1. Data Science\n2. AI/ML\n3. Cloud\n\n[GitHub](https://github.com/milantony05)"
        },
        {
            "cell_type": "code",
            "execution_count": null,
            "metadata": {
                "id": "9cbb4ddc-da7c-4b78-97a8-81533f148e0e"
            },
            "outputs": [],
            "source": ""
        }
    ],
    "metadata": {
        "kernelspec": {
            "display_name": "Python 3.11",
            "language": "python",
            "name": "python3"
        },
        "language_info": {
            "codemirror_mode": {
                "name": "ipython",
                "version": 3
            },
            "file_extension": ".py",
            "mimetype": "text/x-python",
            "name": "python",
            "nbconvert_exporter": "python",
            "pygments_lexer": "ipython3",
            "version": "3.11.9"
        }
    },
    "nbformat": 4,
    "nbformat_minor": 4
}